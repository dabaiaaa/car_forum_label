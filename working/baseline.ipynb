{
 "cells": [
  {
   "cell_type": "code",
   "execution_count": 32,
   "metadata": {
    "ExecuteTime": {
     "end_time": "2019-09-02T11:14:38.116539Z",
     "start_time": "2019-09-02T11:14:37.757713Z"
    }
   },
   "outputs": [],
   "source": [
    "%matplotlib inline\n",
    "\n",
    "import pandas as pd\n",
    "import jieba\n",
    "from sklearn.feature_extraction.text import TfidfVectorizer, CountVectorizer\n",
    "import lightgbm as lgb\n",
    "import matplotlib.pyplot as plt"
   ]
  },
  {
   "cell_type": "code",
   "execution_count": 2,
   "metadata": {
    "ExecuteTime": {
     "end_time": "2019-09-02T11:02:19.774323Z",
     "start_time": "2019-09-02T11:02:19.730295Z"
    }
   },
   "outputs": [],
   "source": [
    "train = pd.read_csv('../data/train.csv')"
   ]
  },
  {
   "cell_type": "code",
   "execution_count": 4,
   "metadata": {
    "ExecuteTime": {
     "end_time": "2019-09-02T11:02:34.162517Z",
     "start_time": "2019-09-02T11:02:34.120939Z"
    }
   },
   "outputs": [],
   "source": [
    "test = pd.read_csv('../data/test.csv')"
   ]
  },
  {
   "cell_type": "code",
   "execution_count": 6,
   "metadata": {
    "ExecuteTime": {
     "end_time": "2019-09-02T11:02:53.144868Z",
     "start_time": "2019-09-02T11:02:53.130965Z"
    }
   },
   "outputs": [],
   "source": [
    "submission = pd.read_csv('../data/submit_example.csv')"
   ]
  },
  {
   "cell_type": "code",
   "execution_count": 3,
   "metadata": {
    "ExecuteTime": {
     "end_time": "2019-09-02T11:02:23.971984Z",
     "start_time": "2019-09-02T11:02:23.953372Z"
    }
   },
   "outputs": [
    {
     "data": {
      "text/html": [
       "<div>\n",
       "<style scoped>\n",
       "    .dataframe tbody tr th:only-of-type {\n",
       "        vertical-align: middle;\n",
       "    }\n",
       "\n",
       "    .dataframe tbody tr th {\n",
       "        vertical-align: top;\n",
       "    }\n",
       "\n",
       "    .dataframe thead th {\n",
       "        text-align: right;\n",
       "    }\n",
       "</style>\n",
       "<table border=\"1\" class=\"dataframe\">\n",
       "  <thead>\n",
       "    <tr style=\"text-align: right;\">\n",
       "      <th></th>\n",
       "      <th>id</th>\n",
       "      <th>flag</th>\n",
       "      <th>title</th>\n",
       "      <th>content</th>\n",
       "    </tr>\n",
       "  </thead>\n",
       "  <tbody>\n",
       "    <tr>\n",
       "      <th>0</th>\n",
       "      <td>3701be69fdea4881874d073b8cc3bfdb</td>\n",
       "      <td>1</td>\n",
       "      <td>办理了ETC高速浪一下，一出门就遇到阿尔法，100万哪，老款的我坐过也开过，确实好车，但是没...</td>\n",
       "      <td>办理了ETC高速浪一下，一出门就遇到阿尔法，100万哪，老款的我坐过也开过，确实好车，但是没...</td>\n",
       "    </tr>\n",
       "    <tr>\n",
       "      <th>1</th>\n",
       "      <td>967b683e4742489fb4738eb7d5f0ae4e</td>\n",
       "      <td>0</td>\n",
       "      <td>秋介绍~</td>\n",
       "      <td>秋介绍~</td>\n",
       "    </tr>\n",
       "    <tr>\n",
       "      <th>2</th>\n",
       "      <td>f98f7ea52a9b460dbc7d32b4114b925b</td>\n",
       "      <td>1</td>\n",
       "      <td>\"精\"改埃尔法提车记！</td>\n",
       "      <td>因为手上的两地牌关系，一直都喜欢买跑车开，觉得用了两地牌在国内开，而且完善的赛道设施，...</td>\n",
       "    </tr>\n",
       "    <tr>\n",
       "      <th>3</th>\n",
       "      <td>8cce3056ad9b453996f22508cf5e1d28</td>\n",
       "      <td>0</td>\n",
       "      <td>?里有卖？怎么联系？</td>\n",
       "      <td>?里有卖？怎么联系？</td>\n",
       "    </tr>\n",
       "    <tr>\n",
       "      <th>4</th>\n",
       "      <td>0835ce6f7fcb4c7b96490b65f66a65f9</td>\n",
       "      <td>1</td>\n",
       "      <td>“宜”与“亦”之间的区别？这辆车可以回答</td>\n",
       "      <td>灵山清净，拈花一笑。没想到这次的试驾地竟是如此禅意：太湖...</td>\n",
       "    </tr>\n",
       "  </tbody>\n",
       "</table>\n",
       "</div>"
      ],
      "text/plain": [
       "                                 id  flag  \\\n",
       "0  3701be69fdea4881874d073b8cc3bfdb     1   \n",
       "1  967b683e4742489fb4738eb7d5f0ae4e     0   \n",
       "2  f98f7ea52a9b460dbc7d32b4114b925b     1   \n",
       "3  8cce3056ad9b453996f22508cf5e1d28     0   \n",
       "4  0835ce6f7fcb4c7b96490b65f66a65f9     1   \n",
       "\n",
       "                                               title  \\\n",
       "0  办理了ETC高速浪一下，一出门就遇到阿尔法，100万哪，老款的我坐过也开过，确实好车，但是没...   \n",
       "1                                               秋介绍~   \n",
       "2                                        \"精\"改埃尔法提车记！   \n",
       "3                                         ?里有卖？怎么联系？   \n",
       "4                               “宜”与“亦”之间的区别？这辆车可以回答   \n",
       "\n",
       "                                             content  \n",
       "0  办理了ETC高速浪一下，一出门就遇到阿尔法，100万哪，老款的我坐过也开过，确实好车，但是没...  \n",
       "1                                               秋介绍~  \n",
       "2   　　因为手上的两地牌关系，一直都喜欢买跑车开，觉得用了两地牌在国内开，而且完善的赛道设施，...  \n",
       "3                                         ?里有卖？怎么联系？  \n",
       "4                    灵山清净，拈花一笑。没想到这次的试驾地竟是如此禅意：太湖...  "
      ]
     },
     "execution_count": 3,
     "metadata": {},
     "output_type": "execute_result"
    }
   ],
   "source": [
    "train.head()"
   ]
  },
  {
   "cell_type": "code",
   "execution_count": 9,
   "metadata": {
    "ExecuteTime": {
     "end_time": "2019-09-02T11:04:08.391780Z",
     "start_time": "2019-09-02T11:04:08.388198Z"
    }
   },
   "outputs": [],
   "source": [
    "title = train['title']"
   ]
  },
  {
   "cell_type": "code",
   "execution_count": 11,
   "metadata": {
    "ExecuteTime": {
     "end_time": "2019-09-02T11:04:45.434128Z",
     "start_time": "2019-09-02T11:04:43.912375Z"
    }
   },
   "outputs": [
    {
     "name": "stderr",
     "output_type": "stream",
     "text": [
      "Building prefix dict from the default dictionary ...\n",
      "Loading model from cache /tmp/jieba.cache\n",
      "Dumping model to file cache /tmp/jieba.cache\n",
      "Dump cache file failed.\n",
      "Traceback (most recent call last):\n",
      "  File \"/disk/m/jupyter/anaconda/envs/rs_python36/lib/python3.6/site-packages/jieba/__init__.py\", line 152, in initialize\n",
      "    _replace_file(fpath, cache_file)\n",
      "PermissionError: [Errno 1] Operation not permitted: '/tmp/tmpvhcxtx_s' -> '/tmp/jieba.cache'\n",
      "Loading model cost 0.936 seconds.\n",
      "Prefix dict has been built succesfully.\n"
     ]
    }
   ],
   "source": [
    "result = []\n",
    "for x in title:\n",
    "    result.append(list(jieba.cut(x)))"
   ]
  },
  {
   "cell_type": "code",
   "execution_count": 15,
   "metadata": {
    "ExecuteTime": {
     "end_time": "2019-09-02T11:11:13.761846Z",
     "start_time": "2019-09-02T11:11:13.754656Z"
    }
   },
   "outputs": [],
   "source": [
    "r2 = []\n",
    "for x in result:\n",
    "    r2.append(' '.join(x))"
   ]
  },
  {
   "cell_type": "code",
   "execution_count": 16,
   "metadata": {
    "ExecuteTime": {
     "end_time": "2019-09-02T11:11:18.271741Z",
     "start_time": "2019-09-02T11:11:18.266900Z"
    }
   },
   "outputs": [
    {
     "data": {
      "text/plain": [
       "3993"
      ]
     },
     "execution_count": 16,
     "metadata": {},
     "output_type": "execute_result"
    }
   ],
   "source": [
    "len(r2)"
   ]
  },
  {
   "cell_type": "code",
   "execution_count": 18,
   "metadata": {
    "ExecuteTime": {
     "end_time": "2019-09-02T11:11:23.768012Z",
     "start_time": "2019-09-02T11:11:23.763118Z"
    }
   },
   "outputs": [
    {
     "data": {
      "text/plain": [
       "['办理 了 ETC 高速 浪 一下 ， 一 出门 就 遇到 阿尔法 ， 100 万 哪 ， 老款 的 我 坐 过 也 开过 ， 确实 好车 ， 但是 没 感觉 值 那么 多 ， 中国 豪人 太多 。   走 磨合 测试 定速巡航   父亲 没空 就 带 着 家里 的 各位 老板 们 兜风     途中 也 感受 下 老板 位 舒服 不 ， 辛苦 大 老板 了 ， 舒适版 有个 好处 ， 可以 不用 下车 就 可以 在 车内 完成 换 司机 的 任务 ， 这个 对于 下雨天 啥 的 ， 非常 实用 。     三 老板 ， 其实 是 最大 的 老板 ， 哭 起来 ， 我 都 要 投降   二老板     趁着 假装 老板 的 机会 好好 感受 下车 内 ， 第 2 排 左侧 位置 放个 纸巾 不错   中间 没有 扶手 的 好处 可以 放 相机包 还有 垃圾桶 ， 这个 建议 大家 都 要备 一个 ， 乱',\n",
       " '秋 介绍 ~']"
      ]
     },
     "execution_count": 18,
     "metadata": {},
     "output_type": "execute_result"
    }
   ],
   "source": [
    "r2[:2]"
   ]
  },
  {
   "cell_type": "code",
   "execution_count": 19,
   "metadata": {
    "ExecuteTime": {
     "end_time": "2019-09-02T11:11:28.468095Z",
     "start_time": "2019-09-02T11:11:28.346459Z"
    }
   },
   "outputs": [],
   "source": [
    "tf = TfidfVectorizer()\n",
    "train_x = tf.fit_transform(r2)"
   ]
  },
  {
   "cell_type": "code",
   "execution_count": 22,
   "metadata": {
    "ExecuteTime": {
     "end_time": "2019-09-02T11:12:16.163304Z",
     "start_time": "2019-09-02T11:12:15.651331Z"
    }
   },
   "outputs": [
    {
     "data": {
      "text/plain": [
       "LGBMClassifier(boosting_type='gbdt', class_weight=None, colsample_bytree=1.0,\n",
       "        importance_type='split', learning_rate=0.1, max_depth=-1,\n",
       "        min_child_samples=20, min_child_weight=0.001, min_split_gain=0.0,\n",
       "        n_estimators=100, n_jobs=-1, num_leaves=31, objective=None,\n",
       "        random_state=None, reg_alpha=0.0, reg_lambda=0.0, silent=True,\n",
       "        subsample=1.0, subsample_for_bin=200000, subsample_freq=0)"
      ]
     },
     "execution_count": 22,
     "metadata": {},
     "output_type": "execute_result"
    }
   ],
   "source": [
    "model = lgb.LGBMClassifier()\n",
    "model.fit(train_x, train['flag'])"
   ]
  },
  {
   "cell_type": "code",
   "execution_count": 23,
   "metadata": {
    "ExecuteTime": {
     "end_time": "2019-09-02T11:13:04.991662Z",
     "start_time": "2019-09-02T11:13:04.394577Z"
    }
   },
   "outputs": [],
   "source": [
    "test_x = []\n",
    "for x in test['title']:\n",
    "    test_x.append(' '.join(list(jieba.cut(x))))"
   ]
  },
  {
   "cell_type": "code",
   "execution_count": 24,
   "metadata": {
    "ExecuteTime": {
     "end_time": "2019-09-02T11:13:08.862806Z",
     "start_time": "2019-09-02T11:13:08.811828Z"
    }
   },
   "outputs": [],
   "source": [
    "test_x = tf.transform(test_x)"
   ]
  },
  {
   "cell_type": "code",
   "execution_count": 25,
   "metadata": {
    "ExecuteTime": {
     "end_time": "2019-09-02T11:13:24.763793Z",
     "start_time": "2019-09-02T11:13:24.740381Z"
    }
   },
   "outputs": [],
   "source": [
    "pred = model.predict_proba(test_x)"
   ]
  },
  {
   "cell_type": "code",
   "execution_count": 28,
   "metadata": {
    "ExecuteTime": {
     "end_time": "2019-09-02T11:13:52.754580Z",
     "start_time": "2019-09-02T11:13:52.749871Z"
    }
   },
   "outputs": [],
   "source": [
    "submission['score'] = pred[:,1]"
   ]
  },
  {
   "cell_type": "code",
   "execution_count": null,
   "metadata": {},
   "outputs": [],
   "source": []
  },
  {
   "cell_type": "code",
   "execution_count": 33,
   "metadata": {
    "ExecuteTime": {
     "end_time": "2019-09-02T11:14:58.938061Z",
     "start_time": "2019-09-02T11:14:58.605976Z"
    }
   },
   "outputs": [
    {
     "data": {
      "text/plain": [
       "<matplotlib.axes._subplots.AxesSubplot at 0x7f935b4f9160>"
      ]
     },
     "execution_count": 33,
     "metadata": {},
     "output_type": "execute_result"
    },
    {
     "data": {
      "image/png": "[encoded data removed]",
      "text/plain": [
       "<Figure size 432x288 with 1 Axes>"
      ]
     },
     "metadata": {
      "needs_background": "light"
     },
     "output_type": "display_data"
    }
   ],
   "source": [
    "submission['score'].plot(kind='hist')"
   ]
  },
  {
   "cell_type": "code",
   "execution_count": 35,
   "metadata": {
    "ExecuteTime": {
     "end_time": "2019-09-02T11:15:35.020987Z",
     "start_time": "2019-09-02T11:15:35.006290Z"
    }
   },
   "outputs": [
    {
     "data": {
      "text/plain": [
       "0    0.747558\n",
       "1    0.252442\n",
       "Name: flag, dtype: float64"
      ]
     },
     "execution_count": 35,
     "metadata": {},
     "output_type": "execute_result"
    }
   ],
   "source": [
    "train['flag'].value_counts(1)"
   ]
  },
  {
   "cell_type": "code",
   "execution_count": 34,
   "metadata": {
    "ExecuteTime": {
     "end_time": "2019-09-02T11:15:12.473756Z",
     "start_time": "2019-09-02T11:15:12.469755Z"
    }
   },
   "outputs": [],
   "source": [
    "del submission['flag']"
   ]
  },
  {
   "cell_type": "code",
   "execution_count": 39,
   "metadata": {
    "ExecuteTime": {
     "end_time": "2019-09-02T11:15:56.858928Z",
     "start_time": "2019-09-02T11:15:56.853984Z"
    }
   },
   "outputs": [],
   "source": [
    "submission['flag'] = np.where(submission['score']>0.4, 1, 0)"
   ]
  },
  {
   "cell_type": "code",
   "execution_count": 40,
   "metadata": {
    "ExecuteTime": {
     "end_time": "2019-09-02T11:15:57.249790Z",
     "start_time": "2019-09-02T11:15:57.241872Z"
    }
   },
   "outputs": [
    {
     "data": {
      "text/plain": [
       "0    0.761833\n",
       "1    0.238167\n",
       "Name: flag, dtype: float64"
      ]
     },
     "execution_count": 40,
     "metadata": {},
     "output_type": "execute_result"
    }
   ],
   "source": [
    "submission['flag'].value_counts(1)"
   ]
  },
  {
   "cell_type": "code",
   "execution_count": 42,
   "metadata": {
    "ExecuteTime": {
     "end_time": "2019-09-02T11:16:18.707758Z",
     "start_time": "2019-09-02T11:16:18.647489Z"
    }
   },
   "outputs": [],
   "source": [
    "submission[['id','flag']].to_csv('sub.csv', index=None)"
   ]
  },
  {
   "cell_type": "code",
   "execution_count": 41,
   "metadata": {
    "ExecuteTime": {
     "end_time": "2019-09-02T11:16:01.842557Z",
     "start_time": "2019-09-02T11:16:01.831382Z"
    }
   },
   "outputs": [
    {
     "data": {
      "text/html": [
       "<div>\n",
       "<style scoped>\n",
       "    .dataframe tbody tr th:only-of-type {\n",
       "        vertical-align: middle;\n",
       "    }\n",
       "\n",
       "    .dataframe tbody tr th {\n",
       "        vertical-align: top;\n",
       "    }\n",
       "\n",
       "    .dataframe thead th {\n",
       "        text-align: right;\n",
       "    }\n",
       "</style>\n",
       "<table border=\"1\" class=\"dataframe\">\n",
       "  <thead>\n",
       "    <tr style=\"text-align: right;\">\n",
       "      <th></th>\n",
       "      <th>id</th>\n",
       "      <th>score</th>\n",
       "      <th>flag</th>\n",
       "    </tr>\n",
       "  </thead>\n",
       "  <tbody>\n",
       "    <tr>\n",
       "      <th>0</th>\n",
       "      <td>fb2f2659a15545a8bd54d543a6d09b63</td>\n",
       "      <td>0.489031</td>\n",
       "      <td>1</td>\n",
       "    </tr>\n",
       "    <tr>\n",
       "      <th>1</th>\n",
       "      <td>fc82f947e7674fbf92be4910afc147eb</td>\n",
       "      <td>0.001445</td>\n",
       "      <td>0</td>\n",
       "    </tr>\n",
       "    <tr>\n",
       "      <th>2</th>\n",
       "      <td>5b8e2c0aca1a4a8a9ac9416dafdea83f</td>\n",
       "      <td>0.002194</td>\n",
       "      <td>0</td>\n",
       "    </tr>\n",
       "    <tr>\n",
       "      <th>3</th>\n",
       "      <td>ea7cadf376fd494fb98e78f5a5306972</td>\n",
       "      <td>0.171535</td>\n",
       "      <td>0</td>\n",
       "    </tr>\n",
       "    <tr>\n",
       "      <th>4</th>\n",
       "      <td>2f3e53022a204242bd2623d69aac8353</td>\n",
       "      <td>0.171535</td>\n",
       "      <td>0</td>\n",
       "    </tr>\n",
       "  </tbody>\n",
       "</table>\n",
       "</div>"
      ],
      "text/plain": [
       "                                 id     score  flag\n",
       "0  fb2f2659a15545a8bd54d543a6d09b63  0.489031     1\n",
       "1  fc82f947e7674fbf92be4910afc147eb  0.001445     0\n",
       "2  5b8e2c0aca1a4a8a9ac9416dafdea83f  0.002194     0\n",
       "3  ea7cadf376fd494fb98e78f5a5306972  0.171535     0\n",
       "4  2f3e53022a204242bd2623d69aac8353  0.171535     0"
      ]
     },
     "execution_count": 41,
     "metadata": {},
     "output_type": "execute_result"
    }
   ],
   "source": [
    "submission.head()"
   ]
  },
  {
   "cell_type": "code",
   "execution_count": 5,
   "metadata": {
    "ExecuteTime": {
     "end_time": "2019-09-02T11:02:37.453337Z",
     "start_time": "2019-09-02T11:02:37.442806Z"
    }
   },
   "outputs": [
    {
     "data": {
      "text/html": [
       "<div>\n",
       "<style scoped>\n",
       "    .dataframe tbody tr th:only-of-type {\n",
       "        vertical-align: middle;\n",
       "    }\n",
       "\n",
       "    .dataframe tbody tr th {\n",
       "        vertical-align: top;\n",
       "    }\n",
       "\n",
       "    .dataframe thead th {\n",
       "        text-align: right;\n",
       "    }\n",
       "</style>\n",
       "<table border=\"1\" class=\"dataframe\">\n",
       "  <thead>\n",
       "    <tr style=\"text-align: right;\">\n",
       "      <th></th>\n",
       "      <th>id</th>\n",
       "      <th>title</th>\n",
       "      <th>content</th>\n",
       "    </tr>\n",
       "  </thead>\n",
       "  <tbody>\n",
       "    <tr>\n",
       "      <th>0</th>\n",
       "      <td>fb2f2659a15545a8bd54d543a6d09b63</td>\n",
       "      <td>mb 现在都加价</td>\n",
       "      <td>mb 现在都加价</td>\n",
       "    </tr>\n",
       "    <tr>\n",
       "      <th>1</th>\n",
       "      <td>fc82f947e7674fbf92be4910afc147eb</td>\n",
       "      <td>既然有这个加装的想法,你是可以去当地的专业汽车改装装饰店看看的,多走几家对比了解一下哪家好。</td>\n",
       "      <td>既然有这个加装的想法,你是可以去当地的专业汽车改装装饰店看看的,多走几家对比了解一下哪家好。</td>\n",
       "    </tr>\n",
       "    <tr>\n",
       "      <th>2</th>\n",
       "      <td>5b8e2c0aca1a4a8a9ac9416dafdea83f</td>\n",
       "      <td>已经关注了价格多少</td>\n",
       "      <td>已经关注了价格多少</td>\n",
       "    </tr>\n",
       "    <tr>\n",
       "      <th>3</th>\n",
       "      <td>ea7cadf376fd494fb98e78f5a5306972</td>\n",
       "      <td>，额色222色啊啊啊-.饿死我我晚上 哇数学，，，，，众互相学习那我问问色鬼v我问问色巫毒娃...</td>\n",
       "      <td>，额色222色啊啊啊-.饿死我我晚上 哇数学，，，，，众互相学习那我问问色鬼v我问问色巫毒娃...</td>\n",
       "    </tr>\n",
       "    <tr>\n",
       "      <th>4</th>\n",
       "      <td>2f3e53022a204242bd2623d69aac8353</td>\n",
       "      <td>“佳人”相伴，坐享其程，坐看雪景，圆满</td>\n",
       "      <td>一般我们买车是因为有这个需求，考虑到家庭人员多，对车子乘坐空间和舒适性上，都是有比较高要...</td>\n",
       "    </tr>\n",
       "  </tbody>\n",
       "</table>\n",
       "</div>"
      ],
      "text/plain": [
       "                                 id  \\\n",
       "0  fb2f2659a15545a8bd54d543a6d09b63   \n",
       "1  fc82f947e7674fbf92be4910afc147eb   \n",
       "2  5b8e2c0aca1a4a8a9ac9416dafdea83f   \n",
       "3  ea7cadf376fd494fb98e78f5a5306972   \n",
       "4  2f3e53022a204242bd2623d69aac8353   \n",
       "\n",
       "                                               title  \\\n",
       "0                                          mb 现在都加价    \n",
       "1     既然有这个加装的想法,你是可以去当地的专业汽车改装装饰店看看的,多走几家对比了解一下哪家好。   \n",
       "2                                          已经关注了价格多少   \n",
       "3  ，额色222色啊啊啊-.饿死我我晚上 哇数学，，，，，众互相学习那我问问色鬼v我问问色巫毒娃...   \n",
       "4                                “佳人”相伴，坐享其程，坐看雪景，圆满   \n",
       "\n",
       "                                             content  \n",
       "0                                          mb 现在都加价   \n",
       "1     既然有这个加装的想法,你是可以去当地的专业汽车改装装饰店看看的,多走几家对比了解一下哪家好。  \n",
       "2                                          已经关注了价格多少  \n",
       "3  ，额色222色啊啊啊-.饿死我我晚上 哇数学，，，，，众互相学习那我问问色鬼v我问问色巫毒娃...  \n",
       "4  　　一般我们买车是因为有这个需求，考虑到家庭人员多，对车子乘坐空间和舒适性上，都是有比较高要...  "
      ]
     },
     "execution_count": 5,
     "metadata": {},
     "output_type": "execute_result"
    }
   ],
   "source": [
    "test.head()"
   ]
  },
  {
   "cell_type": "code",
   "execution_count": 7,
   "metadata": {
    "ExecuteTime": {
     "end_time": "2019-09-02T11:02:57.619284Z",
     "start_time": "2019-09-02T11:02:57.609512Z"
    }
   },
   "outputs": [
    {
     "data": {
      "text/html": [
       "<div>\n",
       "<style scoped>\n",
       "    .dataframe tbody tr th:only-of-type {\n",
       "        vertical-align: middle;\n",
       "    }\n",
       "\n",
       "    .dataframe tbody tr th {\n",
       "        vertical-align: top;\n",
       "    }\n",
       "\n",
       "    .dataframe thead th {\n",
       "        text-align: right;\n",
       "    }\n",
       "</style>\n",
       "<table border=\"1\" class=\"dataframe\">\n",
       "  <thead>\n",
       "    <tr style=\"text-align: right;\">\n",
       "      <th></th>\n",
       "      <th>id</th>\n",
       "      <th>flag</th>\n",
       "    </tr>\n",
       "  </thead>\n",
       "  <tbody>\n",
       "    <tr>\n",
       "      <th>0</th>\n",
       "      <td>fb2f2659a15545a8bd54d543a6d09b63</td>\n",
       "      <td>0</td>\n",
       "    </tr>\n",
       "    <tr>\n",
       "      <th>1</th>\n",
       "      <td>fc82f947e7674fbf92be4910afc147eb</td>\n",
       "      <td>0</td>\n",
       "    </tr>\n",
       "    <tr>\n",
       "      <th>2</th>\n",
       "      <td>5b8e2c0aca1a4a8a9ac9416dafdea83f</td>\n",
       "      <td>0</td>\n",
       "    </tr>\n",
       "    <tr>\n",
       "      <th>3</th>\n",
       "      <td>ea7cadf376fd494fb98e78f5a5306972</td>\n",
       "      <td>0</td>\n",
       "    </tr>\n",
       "    <tr>\n",
       "      <th>4</th>\n",
       "      <td>2f3e53022a204242bd2623d69aac8353</td>\n",
       "      <td>0</td>\n",
       "    </tr>\n",
       "  </tbody>\n",
       "</table>\n",
       "</div>"
      ],
      "text/plain": [
       "                                 id  flag\n",
       "0  fb2f2659a15545a8bd54d543a6d09b63     0\n",
       "1  fc82f947e7674fbf92be4910afc147eb     0\n",
       "2  5b8e2c0aca1a4a8a9ac9416dafdea83f     0\n",
       "3  ea7cadf376fd494fb98e78f5a5306972     0\n",
       "4  2f3e53022a204242bd2623d69aac8353     0"
      ]
     },
     "execution_count": 7,
     "metadata": {},
     "output_type": "execute_result"
    }
   ],
   "source": [
    "submission.head()"
   ]
  },
  {
   "cell_type": "code",
   "execution_count": null,
   "metadata": {},
   "outputs": [],
   "source": []
  }
 ],
 "metadata": {
  "kernelspec": {
   "display_name": "RS_Python36",
   "language": "python",
   "name": "rs_python36"
  },
  "language_info": {
   "codemirror_mode": {
    "name": "ipython",
    "version": 3
   },
   "file_extension": ".py",
   "mimetype": "text/x-python",
   "name": "python",
   "nbconvert_exporter": "python",
   "pygments_lexer": "ipython3",
   "version": "3.6.7"
  },
  "toc": {
   "base_numbering": 1,
   "nav_menu": {},
   "number_sections": true,
   "sideBar": true,
   "skip_h1_title": false,
   "title_cell": "Table of Contents",
   "title_sidebar": "Contents",
   "toc_cell": false,
   "toc_position": {},
   "toc_section_display": true,
   "toc_window_display": false
  },
  "varInspector": {
   "cols": {
    "lenName": 16,
    "lenType": 16,
    "lenVar": 40
   },
   "kernels_config": {
    "python": {
     "delete_cmd_postfix": "",
     "delete_cmd_prefix": "del ",
     "library": "var_list.py",
     "varRefreshCmd": "print(var_dic_list())"
    },
    "r": {
     "delete_cmd_postfix": ") ",
     "delete_cmd_prefix": "rm(",
     "library": "var_list.r",
     "varRefreshCmd": "cat(var_dic_list()) "
    }
   },
   "types_to_exclude": [
    "module",
    "function",
    "builtin_function_or_method",
    "instance",
    "_Feature"
   ],
   "window_display": false
  }
 },
 "nbformat": 4,
 "nbformat_minor": 2
}
